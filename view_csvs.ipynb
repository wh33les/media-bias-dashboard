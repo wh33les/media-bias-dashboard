{
 "cells": [
  {
   "cell_type": "markdown",
   "id": "f37abc40",
   "metadata": {},
   "source": [
    "# CSV file viewer\n",
    "\n",
    "Use this Jupyter notebook to view .csv files.  First input the file name with path and extension:"
   ]
  },
  {
   "cell_type": "code",
   "execution_count": null,
   "id": "c444f215",
   "metadata": {},
   "outputs": [],
   "source": [
    "# Enter the file here with path and extension\n",
    "file = \"data/test_results.csv\"  # default: \"data/test_results.csv\""
   ]
  },
  {
   "cell_type": "code",
   "execution_count": null,
   "id": "be1d10f9",
   "metadata": {},
   "outputs": [],
   "source": [
    "import pandas as pd\n",
    "\n",
    "# Read the CSV file\n",
    "df = pd.read_csv(file)"
   ]
  },
  {
   "cell_type": "markdown",
   "id": "9dd10973",
   "metadata": {},
   "source": [
    "Enter the number of rows you want to see."
   ]
  },
  {
   "cell_type": "code",
   "execution_count": null,
   "id": "a88de34b",
   "metadata": {},
   "outputs": [],
   "source": [
    "# Enter number of rows to see\n",
    "n = 10  # default: 10"
   ]
  },
  {
   "cell_type": "code",
   "execution_count": null,
   "id": "9d8ad248",
   "metadata": {},
   "outputs": [],
   "source": [
    "# Display the first n rows\n",
    "df.head(n)"
   ]
  }
 ],
 "metadata": {
  "kernelspec": {
   "display_name": ".venv",
   "language": "python",
   "name": "python3"
  },
  "language_info": {
   "codemirror_mode": {
    "name": "ipython",
    "version": 3
   },
   "file_extension": ".py",
   "mimetype": "text/x-python",
   "name": "python",
   "nbconvert_exporter": "python",
   "pygments_lexer": "ipython3",
   "version": "3.13.1"
  }
 },
 "nbformat": 4,
 "nbformat_minor": 5
}
